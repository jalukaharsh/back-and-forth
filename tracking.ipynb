{
 "cells": [
  {
   "cell_type": "code",
   "execution_count": 1,
   "metadata": {},
   "outputs": [],
   "source": [
    "import cv2\n",
    "import numpy as np \n",
    "import matplotlib.pyplot as plt"
   ]
  },
  {
   "cell_type": "code",
   "execution_count": 2,
   "metadata": {},
   "outputs": [],
   "source": [
    "cap = cv2.VideoCapture('Video11Edited - 1711996077015.mp4')\n",
    "\n",
    "# init_frame = 500\n",
    "# cap.set(cv2.CAP_PROP_POS_FRAMES, init_frame-1)"
   ]
  },
  {
   "cell_type": "code",
   "execution_count": 3,
   "metadata": {},
   "outputs": [],
   "source": [
    "# capture one frame\n",
    "ret, frame = cap.read()\n",
    "# cv2.imwrite('11_initial.jpg', frame)\n",
    "\n",
    "# initialize the tracing window around the weight\n",
    "# e.g. use MS paint to determine coordinates \n",
    "(x,y,w,h) = (580, 542, 25, 25)\n",
    "\n",
    "img = cv2.rectangle(frame, (x,y), (x+w,y+h), (0,0,255), 2)\n",
    "img = cv2.cvtColor(img, cv2.COLOR_BGR2RGB)\n",
    "\n",
    "# plt.imshow(img)"
   ]
  },
  {
   "cell_type": "code",
   "execution_count": 4,
   "metadata": {},
   "outputs": [
    {
     "data": {
      "text/plain": [
       "[<matplotlib.lines.Line2D at 0x2646a841c10>]"
      ]
     },
     "execution_count": 4,
     "metadata": {},
     "output_type": "execute_result"
    },
    {
     "data": {
      "image/png": "[encoded data removed]",
      "text/plain": [
       "<Figure size 640x480 with 1 Axes>"
      ]
     },
     "metadata": {},
     "output_type": "display_data"
    }
   ],
   "source": [
    "roi = frame[y:y+h, x:x+w]\n",
    "\n",
    "hsv_roi =  cv2.cvtColor(roi, cv2.COLOR_BGR2HSV)\n",
    "\n",
    "mask = cv2.inRange(hsv_roi, np.array((0., 60.,32.)), np.array((180.,255.,255.)))\n",
    "roi_hist = cv2.calcHist([hsv_roi],[0],mask,[180],[0,180])\n",
    "cv2.normalize(roi_hist,roi_hist,0,255,cv2.NORM_MINMAX)\n",
    "\n",
    "plt.plot(roi_hist)"
   ]
  },
  {
   "cell_type": "code",
   "execution_count": 5,
   "metadata": {},
   "outputs": [],
   "source": [
    "track_window = (x,y,w,h)\n",
    "term_crit = ( cv2.TERM_CRITERIA_EPS | cv2.TERM_CRITERIA_COUNT, 10, 1 )\n",
    "\n",
    "backSub = cv2.createBackgroundSubtractorMOG2()\n",
    "\n",
    "while (cap.isOpened()):\n",
    " \n",
    "    ret, frame = cap.read()\n",
    "\n",
    "    if ret == True: \n",
    "\n",
    "        fg_mask = backSub.apply(frame)\n",
    "\n",
    "        retval, mask_thresh = cv2.threshold( fg_mask, 100, 150, cv2.THRESH_BINARY)\n",
    "\n",
    "        # set the kernal\n",
    "        kernel = cv2.getStructuringElement(cv2.MORPH_ELLIPSE, (3, 3))\n",
    "        # Apply erosion\n",
    "        mask_eroded = cv2.morphologyEx(mask_thresh, cv2.MORPH_OPEN, kernel)\n",
    "\n",
    "        # Find contours\n",
    "        contours, hierarchy = cv2.findContours(mask_eroded, cv2.RETR_EXTERNAL, cv2.CHAIN_APPROX_SIMPLE)\n",
    "        # print(contours)\n",
    "        frame_ct = cv2.drawContours(frame, contours, -1, (0, 255, 0), 2)\n",
    "        # Display the resulting frame\n",
    "        cv2.imshow('Frame_final', frame_ct)\n",
    "\n",
    "\n",
    "\n",
    "\n",
    "\n",
    "        # # convert to HSV\n",
    "        # hsv = cv2.cvtColor(frame, cv2.COLOR_BGR2HSV)\n",
    "        \n",
    "        # # histogram back projection using roi_hist \n",
    "        # dst = cv2.calcBackProject([hsv],[0],roi_hist,[0,180],1)\n",
    "        \n",
    "        # # use meanshift to shift the tracking window\n",
    "        # ret, track_window = cv2.meanShift(dst, track_window, term_crit)\n",
    "        \n",
    "        # # display tracked window\n",
    "        # x,y,w,h = track_window\n",
    "\n",
    "        # img = cv2.rectangle(frame, (x,y), (x+w,y+h), (0,0,255), 1)\n",
    "\n",
    "        if cv2.waitKey(33) & 0xFF == 27: # wait a bit and exit is ESC is pressed\n",
    "            break\n",
    "        \n",
    "    else:\n",
    "        break\n",
    "\n",
    "cv2.destroyAllWindows()\n",
    "cap.release()"
   ]
  }
 ],
 "metadata": {
  "kernelspec": {
   "display_name": "base",
   "language": "python",
   "name": "python3"
  },
  "language_info": {
   "codemirror_mode": {
    "name": "ipython",
    "version": 3
   },
   "file_extension": ".py",
   "mimetype": "text/x-python",
   "name": "python",
   "nbconvert_exporter": "python",
   "pygments_lexer": "ipython3",
   "version": "3.11.5"
  }
 },
 "nbformat": 4,
 "nbformat_minor": 2
}
